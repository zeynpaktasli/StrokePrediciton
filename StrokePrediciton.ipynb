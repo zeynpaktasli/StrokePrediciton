{
 "cells": [
  {
   "cell_type": "markdown",
   "id": "328c050d",
   "metadata": {},
   "source": [
    "# Stroke Prediction"
   ]
  },
  {
   "cell_type": "markdown",
   "id": "89ca069e",
   "metadata": {},
   "source": [
    "### Dataset"
   ]
  },
  {
   "cell_type": "markdown",
   "id": "b8926392",
   "metadata": {},
   "source": [
    "https://www.kaggle.com/datasets/fedesoriano/stroke-prediction-dataset"
   ]
  },
  {
   "cell_type": "markdown",
   "id": "eb521ae5",
   "metadata": {},
   "source": [
    "### Context"
   ]
  },
  {
   "cell_type": "markdown",
   "id": "72f0bfb0",
   "metadata": {},
   "source": [
    "According to the World Health Organization (WHO) stroke is the 2nd leading cause of death globally, responsible for approximately 11% of total deaths.\n",
    "This dataset is used to predict whether a patient is likely to get stroke based on the input parameters like gender, age, various diseases, and smoking status. Each row in the data provides relavant information about the patient."
   ]
  },
  {
   "cell_type": "markdown",
   "id": "aa04498c",
   "metadata": {},
   "source": [
    "### Attribute Information"
   ]
  },
  {
   "cell_type": "markdown",
   "id": "04171377",
   "metadata": {},
   "source": [
    "1. id: unique identifier\n",
    "2. gender: \"Male\", \"Female\" or \"Other\"\n",
    "3. age: age of the patient\n",
    "4. hypertension: 0 if the patient doesn't have hypertension, 1 if the patient has hypertension\n",
    "5. heart_disease: 0 if the patient doesn't have any heart diseases, 1 if the patient has a heart disease\n",
    "6. ever_married: \"No\" or \"Yes\"\n",
    "7. work_type: \"children\", \"Govt_jov\", \"Never_worked\", \"Private\" or \"Self-employed\"\n",
    "8. Residence_type: \"Rural\" or \"Urban\"\n",
    "9. avg_glucose_level: average glucose level in blood\n",
    "10. bmi: body mass index\n",
    "11. smoking_status: \"formerly smoked\", \"never smoked\", \"smokes\" or \"Unknown\"*\n",
    "12. stroke: 1 if the patient had a stroke or 0 if not\n",
    "\n",
    "*Note: \"Unknown\" in smoking_status means that the information is unavailable for this patient*"
   ]
  },
  {
   "cell_type": "markdown",
   "id": "ae601306",
   "metadata": {},
   "source": [
    "### Libraries"
   ]
  },
  {
   "cell_type": "code",
   "execution_count": 256,
   "id": "92b70fed",
   "metadata": {},
   "outputs": [],
   "source": [
    "import numpy as np\n",
    "import pandas as pd\n",
    "import seaborn as sns\n",
    "import matplotlib.pyplot as plt\n",
    "import warnings\n",
    "from sklearn.preprocessing import RobustScaler, LabelEncoder, MinMaxScaler\n",
    "from sklearn.model_selection import train_test_split, cross_validate, GridSearchCV\n",
    "from sklearn.metrics import accuracy_score, classification_report, confusion_matrix\n",
    "from sklearn.linear_model import LogisticRegression\n",
    "from sklearn.neighbors import KNeighborsClassifier\n",
    "from sklearn.ensemble import RandomForestClassifier, GradientBoostingClassifier\n",
    "from sklearn.svm import SVC\n",
    "from sklearn.tree import DecisionTreeClassifier\n",
    "from xgboost import XGBClassifier\n",
    "from lightgbm import LGBMClassifier\n",
    "\n",
    "pd.set_option('display.max_columns', None)\n",
    "pd.set_option('display.width', 500)\n",
    "warnings.simplefilter(action='ignore', category=Warning)"
   ]
  },
  {
   "cell_type": "markdown",
   "id": "b2e29fac",
   "metadata": {},
   "source": [
    "### Load Dataset"
   ]
  },
  {
   "cell_type": "code",
   "execution_count": 257,
   "id": "7f0b6f5c",
   "metadata": {},
   "outputs": [],
   "source": [
    "df = pd.read_csv(\"healthcare-dataset-stroke-data.csv\")"
   ]
  },
  {
   "cell_type": "markdown",
   "id": "9038a02b",
   "metadata": {},
   "source": [
    "## Exploratory Data Analysis"
   ]
  },
  {
   "cell_type": "code",
   "execution_count": 258,
   "id": "194cd516",
   "metadata": {},
   "outputs": [
    {
     "data": {
      "text/html": [
       "<div>\n",
       "<style scoped>\n",
       "    .dataframe tbody tr th:only-of-type {\n",
       "        vertical-align: middle;\n",
       "    }\n",
       "\n",
       "    .dataframe tbody tr th {\n",
       "        vertical-align: top;\n",
       "    }\n",
       "\n",
       "    .dataframe thead th {\n",
       "        text-align: right;\n",
       "    }\n",
       "</style>\n",
       "<table border=\"1\" class=\"dataframe\">\n",
       "  <thead>\n",
       "    <tr style=\"text-align: right;\">\n",
       "      <th></th>\n",
       "      <th>id</th>\n",
       "      <th>gender</th>\n",
       "      <th>age</th>\n",
       "      <th>hypertension</th>\n",
       "      <th>heart_disease</th>\n",
       "      <th>ever_married</th>\n",
       "      <th>work_type</th>\n",
       "      <th>Residence_type</th>\n",
       "      <th>avg_glucose_level</th>\n",
       "      <th>bmi</th>\n",
       "      <th>smoking_status</th>\n",
       "      <th>stroke</th>\n",
       "    </tr>\n",
       "  </thead>\n",
       "  <tbody>\n",
       "    <tr>\n",
       "      <th>0</th>\n",
       "      <td>9046</td>\n",
       "      <td>Male</td>\n",
       "      <td>67.0</td>\n",
       "      <td>0</td>\n",
       "      <td>1</td>\n",
       "      <td>Yes</td>\n",
       "      <td>Private</td>\n",
       "      <td>Urban</td>\n",
       "      <td>228.69</td>\n",
       "      <td>36.6</td>\n",
       "      <td>formerly smoked</td>\n",
       "      <td>1</td>\n",
       "    </tr>\n",
       "    <tr>\n",
       "      <th>1</th>\n",
       "      <td>51676</td>\n",
       "      <td>Female</td>\n",
       "      <td>61.0</td>\n",
       "      <td>0</td>\n",
       "      <td>0</td>\n",
       "      <td>Yes</td>\n",
       "      <td>Self-employed</td>\n",
       "      <td>Rural</td>\n",
       "      <td>202.21</td>\n",
       "      <td>NaN</td>\n",
       "      <td>never smoked</td>\n",
       "      <td>1</td>\n",
       "    </tr>\n",
       "    <tr>\n",
       "      <th>2</th>\n",
       "      <td>31112</td>\n",
       "      <td>Male</td>\n",
       "      <td>80.0</td>\n",
       "      <td>0</td>\n",
       "      <td>1</td>\n",
       "      <td>Yes</td>\n",
       "      <td>Private</td>\n",
       "      <td>Rural</td>\n",
       "      <td>105.92</td>\n",
       "      <td>32.5</td>\n",
       "      <td>never smoked</td>\n",
       "      <td>1</td>\n",
       "    </tr>\n",
       "    <tr>\n",
       "      <th>3</th>\n",
       "      <td>60182</td>\n",
       "      <td>Female</td>\n",
       "      <td>49.0</td>\n",
       "      <td>0</td>\n",
       "      <td>0</td>\n",
       "      <td>Yes</td>\n",
       "      <td>Private</td>\n",
       "      <td>Urban</td>\n",
       "      <td>171.23</td>\n",
       "      <td>34.4</td>\n",
       "      <td>smokes</td>\n",
       "      <td>1</td>\n",
       "    </tr>\n",
       "    <tr>\n",
       "      <th>4</th>\n",
       "      <td>1665</td>\n",
       "      <td>Female</td>\n",
       "      <td>79.0</td>\n",
       "      <td>1</td>\n",
       "      <td>0</td>\n",
       "      <td>Yes</td>\n",
       "      <td>Self-employed</td>\n",
       "      <td>Rural</td>\n",
       "      <td>174.12</td>\n",
       "      <td>24.0</td>\n",
       "      <td>never smoked</td>\n",
       "      <td>1</td>\n",
       "    </tr>\n",
       "  </tbody>\n",
       "</table>\n",
       "</div>"
      ],
      "text/plain": [
       "      id  gender   age  hypertension  heart_disease ever_married      work_type Residence_type  avg_glucose_level   bmi   smoking_status  stroke\n",
       "0   9046    Male  67.0             0              1          Yes        Private          Urban             228.69  36.6  formerly smoked       1\n",
       "1  51676  Female  61.0             0              0          Yes  Self-employed          Rural             202.21   NaN     never smoked       1\n",
       "2  31112    Male  80.0             0              1          Yes        Private          Rural             105.92  32.5     never smoked       1\n",
       "3  60182  Female  49.0             0              0          Yes        Private          Urban             171.23  34.4           smokes       1\n",
       "4   1665  Female  79.0             1              0          Yes  Self-employed          Rural             174.12  24.0     never smoked       1"
      ]
     },
     "execution_count": 258,
     "metadata": {},
     "output_type": "execute_result"
    }
   ],
   "source": [
    "df.head()"
   ]
  },
  {
   "cell_type": "code",
   "execution_count": 259,
   "id": "3fe3855e",
   "metadata": {},
   "outputs": [
    {
     "data": {
      "text/html": [
       "<div>\n",
       "<style scoped>\n",
       "    .dataframe tbody tr th:only-of-type {\n",
       "        vertical-align: middle;\n",
       "    }\n",
       "\n",
       "    .dataframe tbody tr th {\n",
       "        vertical-align: top;\n",
       "    }\n",
       "\n",
       "    .dataframe thead th {\n",
       "        text-align: right;\n",
       "    }\n",
       "</style>\n",
       "<table border=\"1\" class=\"dataframe\">\n",
       "  <thead>\n",
       "    <tr style=\"text-align: right;\">\n",
       "      <th></th>\n",
       "      <th>id</th>\n",
       "      <th>gender</th>\n",
       "      <th>age</th>\n",
       "      <th>hypertension</th>\n",
       "      <th>heart_disease</th>\n",
       "      <th>ever_married</th>\n",
       "      <th>work_type</th>\n",
       "      <th>Residence_type</th>\n",
       "      <th>avg_glucose_level</th>\n",
       "      <th>bmi</th>\n",
       "      <th>smoking_status</th>\n",
       "      <th>stroke</th>\n",
       "    </tr>\n",
       "  </thead>\n",
       "  <tbody>\n",
       "    <tr>\n",
       "      <th>5105</th>\n",
       "      <td>18234</td>\n",
       "      <td>Female</td>\n",
       "      <td>80.0</td>\n",
       "      <td>1</td>\n",
       "      <td>0</td>\n",
       "      <td>Yes</td>\n",
       "      <td>Private</td>\n",
       "      <td>Urban</td>\n",
       "      <td>83.75</td>\n",
       "      <td>NaN</td>\n",
       "      <td>never smoked</td>\n",
       "      <td>0</td>\n",
       "    </tr>\n",
       "    <tr>\n",
       "      <th>5106</th>\n",
       "      <td>44873</td>\n",
       "      <td>Female</td>\n",
       "      <td>81.0</td>\n",
       "      <td>0</td>\n",
       "      <td>0</td>\n",
       "      <td>Yes</td>\n",
       "      <td>Self-employed</td>\n",
       "      <td>Urban</td>\n",
       "      <td>125.20</td>\n",
       "      <td>40.0</td>\n",
       "      <td>never smoked</td>\n",
       "      <td>0</td>\n",
       "    </tr>\n",
       "    <tr>\n",
       "      <th>5107</th>\n",
       "      <td>19723</td>\n",
       "      <td>Female</td>\n",
       "      <td>35.0</td>\n",
       "      <td>0</td>\n",
       "      <td>0</td>\n",
       "      <td>Yes</td>\n",
       "      <td>Self-employed</td>\n",
       "      <td>Rural</td>\n",
       "      <td>82.99</td>\n",
       "      <td>30.6</td>\n",
       "      <td>never smoked</td>\n",
       "      <td>0</td>\n",
       "    </tr>\n",
       "    <tr>\n",
       "      <th>5108</th>\n",
       "      <td>37544</td>\n",
       "      <td>Male</td>\n",
       "      <td>51.0</td>\n",
       "      <td>0</td>\n",
       "      <td>0</td>\n",
       "      <td>Yes</td>\n",
       "      <td>Private</td>\n",
       "      <td>Rural</td>\n",
       "      <td>166.29</td>\n",
       "      <td>25.6</td>\n",
       "      <td>formerly smoked</td>\n",
       "      <td>0</td>\n",
       "    </tr>\n",
       "    <tr>\n",
       "      <th>5109</th>\n",
       "      <td>44679</td>\n",
       "      <td>Female</td>\n",
       "      <td>44.0</td>\n",
       "      <td>0</td>\n",
       "      <td>0</td>\n",
       "      <td>Yes</td>\n",
       "      <td>Govt_job</td>\n",
       "      <td>Urban</td>\n",
       "      <td>85.28</td>\n",
       "      <td>26.2</td>\n",
       "      <td>Unknown</td>\n",
       "      <td>0</td>\n",
       "    </tr>\n",
       "  </tbody>\n",
       "</table>\n",
       "</div>"
      ],
      "text/plain": [
       "         id  gender   age  hypertension  heart_disease ever_married      work_type Residence_type  avg_glucose_level   bmi   smoking_status  stroke\n",
       "5105  18234  Female  80.0             1              0          Yes        Private          Urban              83.75   NaN     never smoked       0\n",
       "5106  44873  Female  81.0             0              0          Yes  Self-employed          Urban             125.20  40.0     never smoked       0\n",
       "5107  19723  Female  35.0             0              0          Yes  Self-employed          Rural              82.99  30.6     never smoked       0\n",
       "5108  37544    Male  51.0             0              0          Yes        Private          Rural             166.29  25.6  formerly smoked       0\n",
       "5109  44679  Female  44.0             0              0          Yes       Govt_job          Urban              85.28  26.2          Unknown       0"
      ]
     },
     "execution_count": 259,
     "metadata": {},
     "output_type": "execute_result"
    }
   ],
   "source": [
    "df.tail()"
   ]
  },
  {
   "cell_type": "code",
   "execution_count": 260,
   "id": "67613719",
   "metadata": {},
   "outputs": [
    {
     "data": {
      "text/plain": [
       "(5110, 12)"
      ]
     },
     "execution_count": 260,
     "metadata": {},
     "output_type": "execute_result"
    }
   ],
   "source": [
    "df.shape"
   ]
  },
  {
   "cell_type": "markdown",
   "id": "6dfba8a0",
   "metadata": {},
   "source": [
    "### Missing Values"
   ]
  },
  {
   "cell_type": "code",
   "execution_count": 261,
   "id": "b28d0c1f",
   "metadata": {},
   "outputs": [
    {
     "data": {
      "text/plain": [
       "id                     0\n",
       "gender                 0\n",
       "age                    0\n",
       "hypertension           0\n",
       "heart_disease          0\n",
       "ever_married           0\n",
       "work_type              0\n",
       "Residence_type         0\n",
       "avg_glucose_level      0\n",
       "bmi                  201\n",
       "smoking_status         0\n",
       "stroke                 0\n",
       "dtype: int64"
      ]
     },
     "execution_count": 261,
     "metadata": {},
     "output_type": "execute_result"
    }
   ],
   "source": [
    "df.isnull().sum()"
   ]
  },
  {
   "cell_type": "markdown",
   "id": "d518575e",
   "metadata": {},
   "source": [
    "*There is 201 null value in bmi*"
   ]
  },
  {
   "cell_type": "code",
   "execution_count": 262,
   "id": "6ba139e7",
   "metadata": {},
   "outputs": [
    {
     "data": {
      "text/plain": [
       "3.9334637964774952"
      ]
     },
     "execution_count": 262,
     "metadata": {},
     "output_type": "execute_result"
    }
   ],
   "source": [
    "(df[\"bmi\"].isnull().sum() / df.shape[0]) * 100"
   ]
  },
  {
   "cell_type": "markdown",
   "id": "dfec6961",
   "metadata": {},
   "source": [
    "*Ratio of missing values in bmi is %3.93*"
   ]
  },
  {
   "cell_type": "code",
   "execution_count": 263,
   "id": "75b04ed2",
   "metadata": {},
   "outputs": [
    {
     "data": {
      "text/plain": [
       "<AxesSubplot:>"
      ]
     },
     "execution_count": 263,
     "metadata": {},
     "output_type": "execute_result"
    },
    {
     "data": {
      "image/png": "[encoded data removed]",
      "text/plain": [
       "<Figure size 432x288 with 1 Axes>"
      ]
     },
     "metadata": {
      "needs_background": "light"
     },
     "output_type": "display_data"
    }
   ],
   "source": [
    "sns.barplot(data=df, x=[\"Null\", \"Not Null\"], y=[df[\"bmi\"].isnull().sum(), df[\"bmi\"].notnull().sum()], palette=\"ch:.25\")"
   ]
  },
  {
   "cell_type": "markdown",
   "id": "d058c0ff",
   "metadata": {},
   "source": [
    "### Categorical and Numerical Variables"
   ]
  },
  {
   "cell_type": "code",
   "execution_count": 264,
   "id": "ef2b7766",
   "metadata": {},
   "outputs": [],
   "source": [
    "def col_names(df):\n",
    "    #Categorical Variables\n",
    "    cat_cols = [col for col in df.columns if df[col].dtypes not in [\"int64\", \"float64\"]]\n",
    "    #Numerical Variables\n",
    "    num_cols = [col for col in df.columns if df[col].dtypes in [\"int64\", \"float64\"]]\n",
    "    #Numerical but Categorical Variables\n",
    "    num_but_cat = [col for col in num_cols if df[col].nunique() < 12]\n",
    "    #Adding num_but_cat to cat_cols\n",
    "    cat_cols = num_but_cat + cat_cols\n",
    "    #num_but_cat removing from num_cols\n",
    "    num_cols = [col for col in num_cols if col not in num_but_cat]\n",
    "    #Categorical but Cardinal Variables\n",
    "    cat_but_car = [col for col in cat_cols if df[col].nunique() > 12]\n",
    "    print(f\"Numerical Cols: {num_cols} \\nCategorical Cols: {cat_cols} \\nNumerical but Categorical: {num_but_cat} \\nCategorical but Cardinal: {cat_but_car}\") \n",
    "    return num_cols, cat_cols"
   ]
  },
  {
   "cell_type": "code",
   "execution_count": 265,
   "id": "312d7fcf",
   "metadata": {},
   "outputs": [
    {
     "name": "stdout",
     "output_type": "stream",
     "text": [
      "Numerical Cols: ['id', 'age', 'avg_glucose_level', 'bmi'] \n",
      "Categorical Cols: ['hypertension', 'heart_disease', 'stroke', 'gender', 'ever_married', 'work_type', 'Residence_type', 'smoking_status'] \n",
      "Numerical but Categorical: ['hypertension', 'heart_disease', 'stroke'] \n",
      "Categorical but Cardinal: []\n"
     ]
    }
   ],
   "source": [
    "num_cols, cat_cols = col_names(df)"
   ]
  },
  {
   "cell_type": "markdown",
   "id": "c792d880",
   "metadata": {},
   "source": [
    "### Analyzing Numerical Variables"
   ]
  },
  {
   "cell_type": "code",
   "execution_count": 266,
   "id": "1814661b",
   "metadata": {},
   "outputs": [
    {
     "data": {
      "text/html": [
       "<div>\n",
       "<style scoped>\n",
       "    .dataframe tbody tr th:only-of-type {\n",
       "        vertical-align: middle;\n",
       "    }\n",
       "\n",
       "    .dataframe tbody tr th {\n",
       "        vertical-align: top;\n",
       "    }\n",
       "\n",
       "    .dataframe thead th {\n",
       "        text-align: right;\n",
       "    }\n",
       "</style>\n",
       "<table border=\"1\" class=\"dataframe\">\n",
       "  <thead>\n",
       "    <tr style=\"text-align: right;\">\n",
       "      <th></th>\n",
       "      <th>count</th>\n",
       "      <th>mean</th>\n",
       "      <th>std</th>\n",
       "      <th>min</th>\n",
       "      <th>25%</th>\n",
       "      <th>50%</th>\n",
       "      <th>75%</th>\n",
       "      <th>max</th>\n",
       "    </tr>\n",
       "  </thead>\n",
       "  <tbody>\n",
       "    <tr>\n",
       "      <th>id</th>\n",
       "      <td>5110.0</td>\n",
       "      <td>36517.829354</td>\n",
       "      <td>21161.721625</td>\n",
       "      <td>67.00</td>\n",
       "      <td>17741.250</td>\n",
       "      <td>36932.000</td>\n",
       "      <td>54682.00</td>\n",
       "      <td>72940.00</td>\n",
       "    </tr>\n",
       "    <tr>\n",
       "      <th>age</th>\n",
       "      <td>5110.0</td>\n",
       "      <td>43.226614</td>\n",
       "      <td>22.612647</td>\n",
       "      <td>0.08</td>\n",
       "      <td>25.000</td>\n",
       "      <td>45.000</td>\n",
       "      <td>61.00</td>\n",
       "      <td>82.00</td>\n",
       "    </tr>\n",
       "    <tr>\n",
       "      <th>avg_glucose_level</th>\n",
       "      <td>5110.0</td>\n",
       "      <td>106.147677</td>\n",
       "      <td>45.283560</td>\n",
       "      <td>55.12</td>\n",
       "      <td>77.245</td>\n",
       "      <td>91.885</td>\n",
       "      <td>114.09</td>\n",
       "      <td>271.74</td>\n",
       "    </tr>\n",
       "    <tr>\n",
       "      <th>bmi</th>\n",
       "      <td>4909.0</td>\n",
       "      <td>28.893237</td>\n",
       "      <td>7.854067</td>\n",
       "      <td>10.30</td>\n",
       "      <td>23.500</td>\n",
       "      <td>28.100</td>\n",
       "      <td>33.10</td>\n",
       "      <td>97.60</td>\n",
       "    </tr>\n",
       "  </tbody>\n",
       "</table>\n",
       "</div>"
      ],
      "text/plain": [
       "                    count          mean           std    min        25%        50%       75%       max\n",
       "id                 5110.0  36517.829354  21161.721625  67.00  17741.250  36932.000  54682.00  72940.00\n",
       "age                5110.0     43.226614     22.612647   0.08     25.000     45.000     61.00     82.00\n",
       "avg_glucose_level  5110.0    106.147677     45.283560  55.12     77.245     91.885    114.09    271.74\n",
       "bmi                4909.0     28.893237      7.854067  10.30     23.500     28.100     33.10     97.60"
      ]
     },
     "execution_count": 266,
     "metadata": {},
     "output_type": "execute_result"
    }
   ],
   "source": [
    "df[num_cols].describe().T"
   ]
  },
  {
   "cell_type": "code",
   "execution_count": 267,
   "id": "7965043d",
   "metadata": {},
   "outputs": [
    {
     "data": {
      "image/png": "[encoded data removed]",
      "text/plain": [
       "<Figure size 432x288 with 1 Axes>"
      ]
     },
     "metadata": {
      "needs_background": "light"
     },
     "output_type": "display_data"
    },
    {
     "data": {
      "image/png": "[encoded data removed]",
      "text/plain": [
       "<Figure size 432x288 with 1 Axes>"
      ]
     },
     "metadata": {
      "needs_background": "light"
     },
     "output_type": "display_data"
    },
    {
     "data": {
      "image/png": "[encoded data removed]",
      "text/plain": [
       "<Figure size 432x288 with 1 Axes>"
      ]
     },
     "metadata": {
      "needs_background": "light"
     },
     "output_type": "display_data"
    },
    {
     "data": {
      "image/png": "[encoded data removed]",
      "text/plain": [
       "<Figure size 432x288 with 1 Axes>"
      ]
     },
     "metadata": {
      "needs_background": "light"
     },
     "output_type": "display_data"
    }
   ],
   "source": [
    "for col in num_cols:\n",
    "    sns.histplot(x=df[col], data=df, color=\"lightpink\")\n",
    "    plt.show(block=True)"
   ]
  },
  {
   "cell_type": "code",
   "execution_count": 268,
   "id": "f92153ba",
   "metadata": {},
   "outputs": [
    {
     "data": {
      "image/png": "[encoded data removed]",
      "text/plain": [
       "<Figure size 432x288 with 1 Axes>"
      ]
     },
     "metadata": {
      "needs_background": "light"
     },
     "output_type": "display_data"
    },
    {
     "data": {
      "image/png": "[encoded data removed]",
      "text/plain": [
       "<Figure size 432x288 with 1 Axes>"
      ]
     },
     "metadata": {
      "needs_background": "light"
     },
     "output_type": "display_data"
    },
    {
     "data": {
      "image/png": "[encoded data removed]",
      "text/plain": [
       "<Figure size 432x288 with 1 Axes>"
      ]
     },
     "metadata": {
      "needs_background": "light"
     },
     "output_type": "display_data"
    },
    {
     "data": {
      "image/png": "[encoded data removed]",
      "text/plain": [
       "<Figure size 432x288 with 1 Axes>"
      ]
     },
     "metadata": {
      "needs_background": "light"
     },
     "output_type": "display_data"
    }
   ],
   "source": [
    "for col in num_cols:\n",
    "    sns.boxplot(x=df[col], data=df, color=\"palevioletred\")\n",
    "    plt.show(block=True)"
   ]
  },
  {
   "cell_type": "markdown",
   "id": "5ff0bad7",
   "metadata": {},
   "source": [
    "### Analyzing Categorical Variables"
   ]
  },
  {
   "cell_type": "code",
   "execution_count": 269,
   "id": "5336a824",
   "metadata": {},
   "outputs": [
    {
     "data": {
      "image/png": "[encoded data removed]",
      "text/plain": [
       "<Figure size 432x288 with 1 Axes>"
      ]
     },
     "metadata": {
      "needs_background": "light"
     },
     "output_type": "display_data"
    },
    {
     "data": {
      "image/png": "[encoded data removed]",
      "text/plain": [
       "<Figure size 432x288 with 1 Axes>"
      ]
     },
     "metadata": {
      "needs_background": "light"
     },
     "output_type": "display_data"
    },
    {
     "data": {
      "image/png": "[encoded data removed]",
      "text/plain": [
       "<Figure size 432x288 with 1 Axes>"
      ]
     },
     "metadata": {
      "needs_background": "light"
     },
     "output_type": "display_data"
    },
    {
     "data": {
      "image/png": "[encoded data removed]",
      "text/plain": [
       "<Figure size 432x288 with 1 Axes>"
      ]
     },
     "metadata": {
      "needs_background": "light"
     },
     "output_type": "display_data"
    },
    {
     "data": {
      "image/png": "[encoded data removed]",
      "text/plain": [
       "<Figure size 432x288 with 1 Axes>"
      ]
     },
     "metadata": {
      "needs_background": "light"
     },
     "output_type": "display_data"
    },
    {
     "data": {
      "image/png": "[encoded data removed]",
      "text/plain": [
       "<Figure size 432x288 with 1 Axes>"
      ]
     },
     "metadata": {
      "needs_background": "light"
     },
     "output_type": "display_data"
    },
    {
     "data": {
      "image/png": "[encoded data removed]",
      "text/plain": [
       "<Figure size 432x288 with 1 Axes>"
      ]
     },
     "metadata": {
      "needs_background": "light"
     },
     "output_type": "display_data"
    },
    {
     "data": {
      "image/png": "[encoded data removed]",
      "text/plain": [
       "<Figure size 432x288 with 1 Axes>"
      ]
     },
     "metadata": {
      "needs_background": "light"
     },
     "output_type": "display_data"
    }
   ],
   "source": [
    "for col in cat_cols: \n",
    "    sns.countplot(df[col], palette=\"ch:.25\")\n",
    "    plt.show(block=True)"
   ]
  },
  {
   "cell_type": "markdown",
   "id": "b7898056",
   "metadata": {},
   "source": [
    "### Analyzing Target Variable"
   ]
  },
  {
   "cell_type": "code",
   "execution_count": 270,
   "id": "c5913cde",
   "metadata": {},
   "outputs": [
    {
     "data": {
      "text/plain": [
       "0    4861\n",
       "1     249\n",
       "Name: stroke, dtype: int64"
      ]
     },
     "execution_count": 270,
     "metadata": {},
     "output_type": "execute_result"
    }
   ],
   "source": [
    "df[\"stroke\"].value_counts()"
   ]
  },
  {
   "cell_type": "code",
   "execution_count": 271,
   "id": "0c960b23",
   "metadata": {},
   "outputs": [
    {
     "data": {
      "text/plain": [
       "<AxesSubplot:xlabel='stroke', ylabel='count'>"
      ]
     },
     "execution_count": 271,
     "metadata": {},
     "output_type": "execute_result"
    },
    {
     "data": {
      "image/png": "[encoded data removed]",
      "text/plain": [
       "<Figure size 432x288 with 1 Axes>"
      ]
     },
     "metadata": {
      "needs_background": "light"
     },
     "output_type": "display_data"
    }
   ],
   "source": [
    "sns.countplot(df[\"stroke\"], palette=\"ch:.25\")"
   ]
  },
  {
   "cell_type": "code",
   "execution_count": 272,
   "id": "c6baa72e",
   "metadata": {},
   "outputs": [
    {
     "data": {
      "text/plain": [
       "([<matplotlib.patches.Wedge at 0x24839e02eb0>,\n",
       "  <matplotlib.patches.Wedge at 0x24839e11910>],\n",
       " [Text(-1.0871361453364168, 0.16773491438301516, '0'),\n",
       "  Text(1.284797260350331, -0.19823218657998906, '1')],\n",
       " [Text(-0.5929833520016818, 0.09149177148164463, '95.1%'),\n",
       "  Text(0.7906444679078961, -0.12198903789537788, '4.9%')])"
      ]
     },
     "execution_count": 272,
     "metadata": {},
     "output_type": "execute_result"
    },
    {
     "data": {
      "image/png": "[encoded data removed]",
      "text/plain": [
       "<Figure size 432x288 with 1 Axes>"
      ]
     },
     "metadata": {},
     "output_type": "display_data"
    }
   ],
   "source": [
    "plt.pie(df[\"stroke\"].value_counts(), labels=[0,1], shadow=True, colors=[\"indianred\", \"mistyrose\"], explode=(0,0.2), autopct=\"%1.1f%%\")"
   ]
  },
  {
   "cell_type": "markdown",
   "id": "5f024156",
   "metadata": {},
   "source": [
    "*Ratio of 1s is %4.9*"
   ]
  },
  {
   "cell_type": "markdown",
   "id": "821dcec3",
   "metadata": {},
   "source": [
    "### Checking for Outliers in Numerical Variables"
   ]
  },
  {
   "cell_type": "markdown",
   "id": "5f10436b",
   "metadata": {},
   "source": [
    "Iqr was used when checking for outliers"
   ]
  },
  {
   "cell_type": "code",
   "execution_count": 273,
   "id": "fbdacaa3",
   "metadata": {},
   "outputs": [],
   "source": [
    "def check_outliers(df, numerical_cols, low_threshold=0.1, up_threshold=0.9):\n",
    "    outlier_cols = []\n",
    "    for col in numerical_cols:\n",
    "        q1 = df[col].quantile(low_threshold)\n",
    "        q3 = df[col].quantile(up_threshold)\n",
    "        interquantile = q3 - q1\n",
    "        up_limit = q3 + 1.5 * interquantile\n",
    "        low_limit = q1 - 1.5 * interquantile\n",
    "        if df[(df[col] > up_limit) | (df[col] < low_limit)].any(axis=None):\n",
    "            outlier_cols.append(col)\n",
    "    if not outlier_cols:\n",
    "        print(\"There is no outliers\")\n",
    "    return outlier_cols"
   ]
  },
  {
   "cell_type": "code",
   "execution_count": 274,
   "id": "75fbbfee",
   "metadata": {},
   "outputs": [],
   "source": [
    "outlier_cols = check_outliers(df, num_cols)"
   ]
  },
  {
   "cell_type": "code",
   "execution_count": 275,
   "id": "127afacb",
   "metadata": {},
   "outputs": [
    {
     "name": "stdout",
     "output_type": "stream",
     "text": [
      "['bmi']\n"
     ]
    }
   ],
   "source": [
    "print(outlier_cols)"
   ]
  },
  {
   "cell_type": "markdown",
   "id": "53ac86e8",
   "metadata": {},
   "source": [
    "*There are outliers in \"bmi\"*"
   ]
  },
  {
   "cell_type": "markdown",
   "id": "c66c8d57",
   "metadata": {},
   "source": [
    "### Correlation"
   ]
  },
  {
   "cell_type": "code",
   "execution_count": 276,
   "id": "a71a3de4",
   "metadata": {},
   "outputs": [
    {
     "data": {
      "text/plain": [
       "<AxesSubplot:>"
      ]
     },
     "execution_count": 276,
     "metadata": {},
     "output_type": "execute_result"
    },
    {
     "data": {
      "image/png": "[encoded data removed]",
      "text/plain": [
       "<Figure size 432x288 with 2 Axes>"
      ]
     },
     "metadata": {
      "needs_background": "light"
     },
     "output_type": "display_data"
    }
   ],
   "source": [
    "sns.heatmap(df[num_cols].corr(), annot=True, linewidths=0.5, cmap=\"pink\")"
   ]
  },
  {
   "cell_type": "markdown",
   "id": "7d44edca",
   "metadata": {},
   "source": [
    "*There are no highly correlated columns*"
   ]
  },
  {
   "cell_type": "markdown",
   "id": "0b9dc011",
   "metadata": {},
   "source": [
    "### Target Variable vs Numerical Columns"
   ]
  },
  {
   "cell_type": "code",
   "execution_count": 277,
   "id": "0db17cb4",
   "metadata": {},
   "outputs": [
    {
     "name": "stdout",
     "output_type": "stream",
     "text": [
      "                  id\n",
      "stroke              \n",
      "0       36487.236371\n",
      "1       37115.068273\n",
      "\n",
      "              age\n",
      "stroke           \n",
      "0       41.971545\n",
      "1       67.728193\n",
      "\n",
      "        avg_glucose_level\n",
      "stroke                   \n",
      "0              104.795513\n",
      "1              132.544739\n",
      "\n",
      "              bmi\n",
      "stroke           \n",
      "0       28.823064\n",
      "1       30.471292\n",
      "\n"
     ]
    }
   ],
   "source": [
    "for col in num_cols:\n",
    "    print(df.groupby(\"stroke\").agg({col:\"mean\"}), end=\"\\n\\n\")"
   ]
  },
  {
   "cell_type": "markdown",
   "id": "37f70aec",
   "metadata": {},
   "source": [
    "According to the results, the probability of having a stroke increases with age, glucose level and bmi"
   ]
  },
  {
   "cell_type": "markdown",
   "id": "588a3552",
   "metadata": {},
   "source": [
    "### Target Variable vs Categorical Columns"
   ]
  },
  {
   "cell_type": "code",
   "execution_count": 278,
   "id": "da4bfe42",
   "metadata": {},
   "outputs": [
    {
     "name": "stdout",
     "output_type": "stream",
     "text": [
      "              target_mean\n",
      "hypertension             \n",
      "0                0.039679\n",
      "1                0.132530\n",
      "\n",
      "               target_mean\n",
      "heart_disease             \n",
      "0                 0.041787\n",
      "1                 0.170290\n",
      "\n",
      "        target_mean\n",
      "stroke             \n",
      "0               0.0\n",
      "1               1.0\n",
      "\n",
      "        target_mean\n",
      "gender             \n",
      "Female     0.047094\n",
      "Male       0.051064\n",
      "Other      0.000000\n",
      "\n",
      "              target_mean\n",
      "ever_married             \n",
      "No               0.016505\n",
      "Yes              0.065613\n",
      "\n",
      "               target_mean\n",
      "work_type                 \n",
      "Govt_job          0.050228\n",
      "Never_worked      0.000000\n",
      "Private           0.050940\n",
      "Self-employed     0.079365\n",
      "children          0.002911\n",
      "\n",
      "                target_mean\n",
      "Residence_type             \n",
      "Rural              0.045346\n",
      "Urban              0.052003\n",
      "\n",
      "                 target_mean\n",
      "smoking_status              \n",
      "Unknown             0.030440\n",
      "formerly smoked     0.079096\n",
      "never smoked        0.047569\n",
      "smokes              0.053232\n",
      "\n"
     ]
    }
   ],
   "source": [
    "for col in cat_cols:\n",
    "    print(pd.DataFrame({\"target_mean\": df.groupby(col)[\"stroke\"].mean()}), end=\"\\n\\n\")"
   ]
  },
  {
   "cell_type": "markdown",
   "id": "72d3132c",
   "metadata": {},
   "source": [
    "According to the results,\n",
    "* People with hypertension are more likely to have a stroke\n",
    "* People with heart disease are more likely to have a stroke\n",
    "* The probability of having a stroke is higher in men\n",
    "* People who have been married are more likely to have a stroke\n",
    "* People who are self-employed are more likely to have a stroke\n",
    "* The probability of having a stroke is higher in urban life\n",
    "* The probability of having a stroke is higher in formerly smoked people"
   ]
  },
  {
   "cell_type": "markdown",
   "id": "21171f3f",
   "metadata": {},
   "source": [
    "## Data Preprocessing & Feature Engineering"
   ]
  },
  {
   "cell_type": "markdown",
   "id": "367533ad",
   "metadata": {},
   "source": [
    "### Filling Missing Values"
   ]
  },
  {
   "cell_type": "markdown",
   "id": "c8f730e6",
   "metadata": {},
   "source": [
    "Missing values were filled with the median"
   ]
  },
  {
   "cell_type": "code",
   "execution_count": 279,
   "id": "b9e1ed5b",
   "metadata": {},
   "outputs": [],
   "source": [
    "df.fillna(df[\"bmi\"].median(),inplace=True)"
   ]
  },
  {
   "cell_type": "markdown",
   "id": "3ea7278f",
   "metadata": {},
   "source": [
    "### Label Encoder"
   ]
  },
  {
   "cell_type": "markdown",
   "id": "4341fdb6",
   "metadata": {},
   "source": [
    "Label encoder was applied to binary columns"
   ]
  },
  {
   "cell_type": "code",
   "execution_count": 280,
   "id": "d3d12b17",
   "metadata": {},
   "outputs": [],
   "source": [
    "binary_cols = [col for col in df.columns if df[col].dtype not in [\"int64\", \"float64\"] and df[col].nunique() == 2]"
   ]
  },
  {
   "cell_type": "code",
   "execution_count": 281,
   "id": "16fba422",
   "metadata": {},
   "outputs": [
    {
     "data": {
      "text/plain": [
       "['ever_married', 'Residence_type']"
      ]
     },
     "execution_count": 281,
     "metadata": {},
     "output_type": "execute_result"
    }
   ],
   "source": [
    "binary_cols"
   ]
  },
  {
   "cell_type": "code",
   "execution_count": 282,
   "id": "a6d9ed9a",
   "metadata": {},
   "outputs": [],
   "source": [
    "le = LabelEncoder()"
   ]
  },
  {
   "cell_type": "code",
   "execution_count": 283,
   "id": "9676941a",
   "metadata": {},
   "outputs": [],
   "source": [
    "for col in binary_cols:\n",
    "    df[col] = le.fit_transform(df[col])"
   ]
  },
  {
   "cell_type": "code",
   "execution_count": 284,
   "id": "5f1f6435",
   "metadata": {},
   "outputs": [
    {
     "data": {
      "text/html": [
       "<div>\n",
       "<style scoped>\n",
       "    .dataframe tbody tr th:only-of-type {\n",
       "        vertical-align: middle;\n",
       "    }\n",
       "\n",
       "    .dataframe tbody tr th {\n",
       "        vertical-align: top;\n",
       "    }\n",
       "\n",
       "    .dataframe thead th {\n",
       "        text-align: right;\n",
       "    }\n",
       "</style>\n",
       "<table border=\"1\" class=\"dataframe\">\n",
       "  <thead>\n",
       "    <tr style=\"text-align: right;\">\n",
       "      <th></th>\n",
       "      <th>id</th>\n",
       "      <th>gender</th>\n",
       "      <th>age</th>\n",
       "      <th>hypertension</th>\n",
       "      <th>heart_disease</th>\n",
       "      <th>ever_married</th>\n",
       "      <th>work_type</th>\n",
       "      <th>Residence_type</th>\n",
       "      <th>avg_glucose_level</th>\n",
       "      <th>bmi</th>\n",
       "      <th>smoking_status</th>\n",
       "      <th>stroke</th>\n",
       "    </tr>\n",
       "  </thead>\n",
       "  <tbody>\n",
       "    <tr>\n",
       "      <th>0</th>\n",
       "      <td>9046</td>\n",
       "      <td>Male</td>\n",
       "      <td>67.0</td>\n",
       "      <td>0</td>\n",
       "      <td>1</td>\n",
       "      <td>1</td>\n",
       "      <td>Private</td>\n",
       "      <td>1</td>\n",
       "      <td>228.69</td>\n",
       "      <td>36.6</td>\n",
       "      <td>formerly smoked</td>\n",
       "      <td>1</td>\n",
       "    </tr>\n",
       "    <tr>\n",
       "      <th>1</th>\n",
       "      <td>51676</td>\n",
       "      <td>Female</td>\n",
       "      <td>61.0</td>\n",
       "      <td>0</td>\n",
       "      <td>0</td>\n",
       "      <td>1</td>\n",
       "      <td>Self-employed</td>\n",
       "      <td>0</td>\n",
       "      <td>202.21</td>\n",
       "      <td>28.1</td>\n",
       "      <td>never smoked</td>\n",
       "      <td>1</td>\n",
       "    </tr>\n",
       "    <tr>\n",
       "      <th>2</th>\n",
       "      <td>31112</td>\n",
       "      <td>Male</td>\n",
       "      <td>80.0</td>\n",
       "      <td>0</td>\n",
       "      <td>1</td>\n",
       "      <td>1</td>\n",
       "      <td>Private</td>\n",
       "      <td>0</td>\n",
       "      <td>105.92</td>\n",
       "      <td>32.5</td>\n",
       "      <td>never smoked</td>\n",
       "      <td>1</td>\n",
       "    </tr>\n",
       "    <tr>\n",
       "      <th>3</th>\n",
       "      <td>60182</td>\n",
       "      <td>Female</td>\n",
       "      <td>49.0</td>\n",
       "      <td>0</td>\n",
       "      <td>0</td>\n",
       "      <td>1</td>\n",
       "      <td>Private</td>\n",
       "      <td>1</td>\n",
       "      <td>171.23</td>\n",
       "      <td>34.4</td>\n",
       "      <td>smokes</td>\n",
       "      <td>1</td>\n",
       "    </tr>\n",
       "    <tr>\n",
       "      <th>4</th>\n",
       "      <td>1665</td>\n",
       "      <td>Female</td>\n",
       "      <td>79.0</td>\n",
       "      <td>1</td>\n",
       "      <td>0</td>\n",
       "      <td>1</td>\n",
       "      <td>Self-employed</td>\n",
       "      <td>0</td>\n",
       "      <td>174.12</td>\n",
       "      <td>24.0</td>\n",
       "      <td>never smoked</td>\n",
       "      <td>1</td>\n",
       "    </tr>\n",
       "  </tbody>\n",
       "</table>\n",
       "</div>"
      ],
      "text/plain": [
       "      id  gender   age  hypertension  heart_disease  ever_married      work_type  Residence_type  avg_glucose_level   bmi   smoking_status  stroke\n",
       "0   9046    Male  67.0             0              1             1        Private               1             228.69  36.6  formerly smoked       1\n",
       "1  51676  Female  61.0             0              0             1  Self-employed               0             202.21  28.1     never smoked       1\n",
       "2  31112    Male  80.0             0              1             1        Private               0             105.92  32.5     never smoked       1\n",
       "3  60182  Female  49.0             0              0             1        Private               1             171.23  34.4           smokes       1\n",
       "4   1665  Female  79.0             1              0             1  Self-employed               0             174.12  24.0     never smoked       1"
      ]
     },
     "execution_count": 284,
     "metadata": {},
     "output_type": "execute_result"
    }
   ],
   "source": [
    "df.head()"
   ]
  },
  {
   "cell_type": "markdown",
   "id": "f7b9dbc9",
   "metadata": {},
   "source": [
    "### One-Hot Encoder"
   ]
  },
  {
   "cell_type": "markdown",
   "id": "4f745a75",
   "metadata": {},
   "source": [
    "One-hot encoder was applied to columns with more than 2 categories"
   ]
  },
  {
   "cell_type": "code",
   "execution_count": 285,
   "id": "c91dbc79",
   "metadata": {},
   "outputs": [],
   "source": [
    "ohe_cols = [col for col in df.columns if 2 < df[col].nunique() < 10]"
   ]
  },
  {
   "cell_type": "code",
   "execution_count": 286,
   "id": "7b550d0d",
   "metadata": {},
   "outputs": [
    {
     "data": {
      "text/plain": [
       "['gender', 'work_type', 'smoking_status']"
      ]
     },
     "execution_count": 286,
     "metadata": {},
     "output_type": "execute_result"
    }
   ],
   "source": [
    "ohe_cols"
   ]
  },
  {
   "cell_type": "code",
   "execution_count": 287,
   "id": "d7ea1c28",
   "metadata": {},
   "outputs": [],
   "source": [
    "df = pd.get_dummies(df, columns=ohe_cols, drop_first=True)"
   ]
  },
  {
   "cell_type": "code",
   "execution_count": 288,
   "id": "7d902cbe",
   "metadata": {},
   "outputs": [
    {
     "data": {
      "text/html": [
       "<div>\n",
       "<style scoped>\n",
       "    .dataframe tbody tr th:only-of-type {\n",
       "        vertical-align: middle;\n",
       "    }\n",
       "\n",
       "    .dataframe tbody tr th {\n",
       "        vertical-align: top;\n",
       "    }\n",
       "\n",
       "    .dataframe thead th {\n",
       "        text-align: right;\n",
       "    }\n",
       "</style>\n",
       "<table border=\"1\" class=\"dataframe\">\n",
       "  <thead>\n",
       "    <tr style=\"text-align: right;\">\n",
       "      <th></th>\n",
       "      <th>id</th>\n",
       "      <th>age</th>\n",
       "      <th>hypertension</th>\n",
       "      <th>heart_disease</th>\n",
       "      <th>ever_married</th>\n",
       "      <th>Residence_type</th>\n",
       "      <th>avg_glucose_level</th>\n",
       "      <th>bmi</th>\n",
       "      <th>stroke</th>\n",
       "      <th>gender_Male</th>\n",
       "      <th>gender_Other</th>\n",
       "      <th>work_type_Never_worked</th>\n",
       "      <th>work_type_Private</th>\n",
       "      <th>work_type_Self-employed</th>\n",
       "      <th>work_type_children</th>\n",
       "      <th>smoking_status_formerly smoked</th>\n",
       "      <th>smoking_status_never smoked</th>\n",
       "      <th>smoking_status_smokes</th>\n",
       "    </tr>\n",
       "  </thead>\n",
       "  <tbody>\n",
       "    <tr>\n",
       "      <th>0</th>\n",
       "      <td>9046</td>\n",
       "      <td>67.0</td>\n",
       "      <td>0</td>\n",
       "      <td>1</td>\n",
       "      <td>1</td>\n",
       "      <td>1</td>\n",
       "      <td>228.69</td>\n",
       "      <td>36.6</td>\n",
       "      <td>1</td>\n",
       "      <td>1</td>\n",
       "      <td>0</td>\n",
       "      <td>0</td>\n",
       "      <td>1</td>\n",
       "      <td>0</td>\n",
       "      <td>0</td>\n",
       "      <td>1</td>\n",
       "      <td>0</td>\n",
       "      <td>0</td>\n",
       "    </tr>\n",
       "    <tr>\n",
       "      <th>1</th>\n",
       "      <td>51676</td>\n",
       "      <td>61.0</td>\n",
       "      <td>0</td>\n",
       "      <td>0</td>\n",
       "      <td>1</td>\n",
       "      <td>0</td>\n",
       "      <td>202.21</td>\n",
       "      <td>28.1</td>\n",
       "      <td>1</td>\n",
       "      <td>0</td>\n",
       "      <td>0</td>\n",
       "      <td>0</td>\n",
       "      <td>0</td>\n",
       "      <td>1</td>\n",
       "      <td>0</td>\n",
       "      <td>0</td>\n",
       "      <td>1</td>\n",
       "      <td>0</td>\n",
       "    </tr>\n",
       "    <tr>\n",
       "      <th>2</th>\n",
       "      <td>31112</td>\n",
       "      <td>80.0</td>\n",
       "      <td>0</td>\n",
       "      <td>1</td>\n",
       "      <td>1</td>\n",
       "      <td>0</td>\n",
       "      <td>105.92</td>\n",
       "      <td>32.5</td>\n",
       "      <td>1</td>\n",
       "      <td>1</td>\n",
       "      <td>0</td>\n",
       "      <td>0</td>\n",
       "      <td>1</td>\n",
       "      <td>0</td>\n",
       "      <td>0</td>\n",
       "      <td>0</td>\n",
       "      <td>1</td>\n",
       "      <td>0</td>\n",
       "    </tr>\n",
       "    <tr>\n",
       "      <th>3</th>\n",
       "      <td>60182</td>\n",
       "      <td>49.0</td>\n",
       "      <td>0</td>\n",
       "      <td>0</td>\n",
       "      <td>1</td>\n",
       "      <td>1</td>\n",
       "      <td>171.23</td>\n",
       "      <td>34.4</td>\n",
       "      <td>1</td>\n",
       "      <td>0</td>\n",
       "      <td>0</td>\n",
       "      <td>0</td>\n",
       "      <td>1</td>\n",
       "      <td>0</td>\n",
       "      <td>0</td>\n",
       "      <td>0</td>\n",
       "      <td>0</td>\n",
       "      <td>1</td>\n",
       "    </tr>\n",
       "    <tr>\n",
       "      <th>4</th>\n",
       "      <td>1665</td>\n",
       "      <td>79.0</td>\n",
       "      <td>1</td>\n",
       "      <td>0</td>\n",
       "      <td>1</td>\n",
       "      <td>0</td>\n",
       "      <td>174.12</td>\n",
       "      <td>24.0</td>\n",
       "      <td>1</td>\n",
       "      <td>0</td>\n",
       "      <td>0</td>\n",
       "      <td>0</td>\n",
       "      <td>0</td>\n",
       "      <td>1</td>\n",
       "      <td>0</td>\n",
       "      <td>0</td>\n",
       "      <td>1</td>\n",
       "      <td>0</td>\n",
       "    </tr>\n",
       "  </tbody>\n",
       "</table>\n",
       "</div>"
      ],
      "text/plain": [
       "      id   age  hypertension  heart_disease  ever_married  Residence_type  avg_glucose_level   bmi  stroke  gender_Male  gender_Other  work_type_Never_worked  work_type_Private  work_type_Self-employed  work_type_children  smoking_status_formerly smoked  smoking_status_never smoked  smoking_status_smokes\n",
       "0   9046  67.0             0              1             1               1             228.69  36.6       1            1             0                       0                  1                        0                   0                               1                            0                      0\n",
       "1  51676  61.0             0              0             1               0             202.21  28.1       1            0             0                       0                  0                        1                   0                               0                            1                      0\n",
       "2  31112  80.0             0              1             1               0             105.92  32.5       1            1             0                       0                  1                        0                   0                               0                            1                      0\n",
       "3  60182  49.0             0              0             1               1             171.23  34.4       1            0             0                       0                  1                        0                   0                               0                            0                      1\n",
       "4   1665  79.0             1              0             1               0             174.12  24.0       1            0             0                       0                  0                        1                   0                               0                            1                      0"
      ]
     },
     "execution_count": 288,
     "metadata": {},
     "output_type": "execute_result"
    }
   ],
   "source": [
    "df.head()"
   ]
  },
  {
   "cell_type": "markdown",
   "id": "77269531",
   "metadata": {},
   "source": [
    "### Dealing with Outliers"
   ]
  },
  {
   "cell_type": "markdown",
   "id": "d5430222",
   "metadata": {},
   "source": [
    "Using the iqr method, outliers were replaced with their upper and lower limits"
   ]
  },
  {
   "cell_type": "code",
   "execution_count": 289,
   "id": "87d6e20f",
   "metadata": {},
   "outputs": [],
   "source": [
    "def replace_with_thresholds(df, col, low_threshold=0.1, up_threshold=0.9):\n",
    "    q1 = df[col].quantile(low_threshold)\n",
    "    q3 = df[col].quantile(up_threshold)\n",
    "    interquantile = q3 - q1\n",
    "    up_limit = q3 + 1.5 * interquantile\n",
    "    low_limit = q1 - 1.5 * interquantile\n",
    "    df.loc[(df[col] < low_limit), col] = low_limit\n",
    "    df.loc[(df[col] > up_limit), col] = up_limit"
   ]
  },
  {
   "cell_type": "code",
   "execution_count": 290,
   "id": "aee5f485",
   "metadata": {},
   "outputs": [],
   "source": [
    "for col in outlier_cols:\n",
    "    replace_with_thresholds(df, col)"
   ]
  },
  {
   "cell_type": "markdown",
   "id": "10f9591b",
   "metadata": {},
   "source": [
    "Checked for outliers again"
   ]
  },
  {
   "cell_type": "code",
   "execution_count": 291,
   "id": "c4bdd2a5",
   "metadata": {},
   "outputs": [
    {
     "name": "stdout",
     "output_type": "stream",
     "text": [
      "There is no outliers\n"
     ]
    },
    {
     "data": {
      "text/plain": [
       "[]"
      ]
     },
     "execution_count": 291,
     "metadata": {},
     "output_type": "execute_result"
    }
   ],
   "source": [
    "check_outliers(df, num_cols)"
   ]
  },
  {
   "cell_type": "markdown",
   "id": "8c069694",
   "metadata": {},
   "source": [
    "### Feature Scaling"
   ]
  },
  {
   "cell_type": "markdown",
   "id": "aa527803",
   "metadata": {},
   "source": [
    "Min-Max Scaler was applied to \"age\", \"bmi\" and \"avg_glucose_level\""
   ]
  },
  {
   "cell_type": "code",
   "execution_count": 292,
   "id": "94ff49d9",
   "metadata": {},
   "outputs": [],
   "source": [
    "sc = MinMaxScaler()"
   ]
  },
  {
   "cell_type": "code",
   "execution_count": 293,
   "id": "7e69b289",
   "metadata": {},
   "outputs": [],
   "source": [
    "df[\"age\"] = sc.fit_transform(df[[\"age\"]])\n",
    "df[\"bmi\"] = sc.fit_transform(df[[\"bmi\"]])\n",
    "df[\"avg_glucose_level\"] = sc.fit_transform(df[[\"avg_glucose_level\"]])"
   ]
  },
  {
   "cell_type": "code",
   "execution_count": 294,
   "id": "7749c8ae",
   "metadata": {},
   "outputs": [
    {
     "data": {
      "text/html": [
       "<div>\n",
       "<style scoped>\n",
       "    .dataframe tbody tr th:only-of-type {\n",
       "        vertical-align: middle;\n",
       "    }\n",
       "\n",
       "    .dataframe tbody tr th {\n",
       "        vertical-align: top;\n",
       "    }\n",
       "\n",
       "    .dataframe thead th {\n",
       "        text-align: right;\n",
       "    }\n",
       "</style>\n",
       "<table border=\"1\" class=\"dataframe\">\n",
       "  <thead>\n",
       "    <tr style=\"text-align: right;\">\n",
       "      <th></th>\n",
       "      <th>id</th>\n",
       "      <th>age</th>\n",
       "      <th>hypertension</th>\n",
       "      <th>heart_disease</th>\n",
       "      <th>ever_married</th>\n",
       "      <th>Residence_type</th>\n",
       "      <th>avg_glucose_level</th>\n",
       "      <th>bmi</th>\n",
       "      <th>stroke</th>\n",
       "      <th>gender_Male</th>\n",
       "      <th>gender_Other</th>\n",
       "      <th>work_type_Never_worked</th>\n",
       "      <th>work_type_Private</th>\n",
       "      <th>work_type_Self-employed</th>\n",
       "      <th>work_type_children</th>\n",
       "      <th>smoking_status_formerly smoked</th>\n",
       "      <th>smoking_status_never smoked</th>\n",
       "      <th>smoking_status_smokes</th>\n",
       "    </tr>\n",
       "  </thead>\n",
       "  <tbody>\n",
       "    <tr>\n",
       "      <th>0</th>\n",
       "      <td>9046</td>\n",
       "      <td>0.816895</td>\n",
       "      <td>0</td>\n",
       "      <td>1</td>\n",
       "      <td>1</td>\n",
       "      <td>1</td>\n",
       "      <td>0.801265</td>\n",
       "      <td>0.464541</td>\n",
       "      <td>1</td>\n",
       "      <td>1</td>\n",
       "      <td>0</td>\n",
       "      <td>0</td>\n",
       "      <td>1</td>\n",
       "      <td>0</td>\n",
       "      <td>0</td>\n",
       "      <td>1</td>\n",
       "      <td>0</td>\n",
       "      <td>0</td>\n",
       "    </tr>\n",
       "    <tr>\n",
       "      <th>1</th>\n",
       "      <td>51676</td>\n",
       "      <td>0.743652</td>\n",
       "      <td>0</td>\n",
       "      <td>0</td>\n",
       "      <td>1</td>\n",
       "      <td>0</td>\n",
       "      <td>0.679023</td>\n",
       "      <td>0.314404</td>\n",
       "      <td>1</td>\n",
       "      <td>0</td>\n",
       "      <td>0</td>\n",
       "      <td>0</td>\n",
       "      <td>0</td>\n",
       "      <td>1</td>\n",
       "      <td>0</td>\n",
       "      <td>0</td>\n",
       "      <td>1</td>\n",
       "      <td>0</td>\n",
       "    </tr>\n",
       "    <tr>\n",
       "      <th>2</th>\n",
       "      <td>31112</td>\n",
       "      <td>0.975586</td>\n",
       "      <td>0</td>\n",
       "      <td>1</td>\n",
       "      <td>1</td>\n",
       "      <td>0</td>\n",
       "      <td>0.234512</td>\n",
       "      <td>0.392122</td>\n",
       "      <td>1</td>\n",
       "      <td>1</td>\n",
       "      <td>0</td>\n",
       "      <td>0</td>\n",
       "      <td>1</td>\n",
       "      <td>0</td>\n",
       "      <td>0</td>\n",
       "      <td>0</td>\n",
       "      <td>1</td>\n",
       "      <td>0</td>\n",
       "    </tr>\n",
       "    <tr>\n",
       "      <th>3</th>\n",
       "      <td>60182</td>\n",
       "      <td>0.597168</td>\n",
       "      <td>0</td>\n",
       "      <td>0</td>\n",
       "      <td>1</td>\n",
       "      <td>1</td>\n",
       "      <td>0.536008</td>\n",
       "      <td>0.425682</td>\n",
       "      <td>1</td>\n",
       "      <td>0</td>\n",
       "      <td>0</td>\n",
       "      <td>0</td>\n",
       "      <td>1</td>\n",
       "      <td>0</td>\n",
       "      <td>0</td>\n",
       "      <td>0</td>\n",
       "      <td>0</td>\n",
       "      <td>1</td>\n",
       "    </tr>\n",
       "    <tr>\n",
       "      <th>4</th>\n",
       "      <td>1665</td>\n",
       "      <td>0.963379</td>\n",
       "      <td>1</td>\n",
       "      <td>0</td>\n",
       "      <td>1</td>\n",
       "      <td>0</td>\n",
       "      <td>0.549349</td>\n",
       "      <td>0.241985</td>\n",
       "      <td>1</td>\n",
       "      <td>0</td>\n",
       "      <td>0</td>\n",
       "      <td>0</td>\n",
       "      <td>0</td>\n",
       "      <td>1</td>\n",
       "      <td>0</td>\n",
       "      <td>0</td>\n",
       "      <td>1</td>\n",
       "      <td>0</td>\n",
       "    </tr>\n",
       "  </tbody>\n",
       "</table>\n",
       "</div>"
      ],
      "text/plain": [
       "      id       age  hypertension  heart_disease  ever_married  Residence_type  avg_glucose_level       bmi  stroke  gender_Male  gender_Other  work_type_Never_worked  work_type_Private  work_type_Self-employed  work_type_children  smoking_status_formerly smoked  smoking_status_never smoked  smoking_status_smokes\n",
       "0   9046  0.816895             0              1             1               1           0.801265  0.464541       1            1             0                       0                  1                        0                   0                               1                            0                      0\n",
       "1  51676  0.743652             0              0             1               0           0.679023  0.314404       1            0             0                       0                  0                        1                   0                               0                            1                      0\n",
       "2  31112  0.975586             0              1             1               0           0.234512  0.392122       1            1             0                       0                  1                        0                   0                               0                            1                      0\n",
       "3  60182  0.597168             0              0             1               1           0.536008  0.425682       1            0             0                       0                  1                        0                   0                               0                            0                      1\n",
       "4   1665  0.963379             1              0             1               0           0.549349  0.241985       1            0             0                       0                  0                        1                   0                               0                            1                      0"
      ]
     },
     "execution_count": 294,
     "metadata": {},
     "output_type": "execute_result"
    }
   ],
   "source": [
    "df.head()"
   ]
  },
  {
   "cell_type": "markdown",
   "id": "9cee575d",
   "metadata": {},
   "source": [
    "## Model Building"
   ]
  },
  {
   "cell_type": "code",
   "execution_count": 295,
   "id": "df729c53",
   "metadata": {},
   "outputs": [],
   "source": [
    "y = df[\"stroke\"]\n",
    "X = df.drop([\"stroke\", \"id\"], axis=1)"
   ]
  },
  {
   "cell_type": "code",
   "execution_count": 296,
   "id": "9cb35c7b",
   "metadata": {},
   "outputs": [],
   "source": [
    "models = [(\"LR\", LogisticRegression()),\n",
    "          (\"KNN\", KNeighborsClassifier()),\n",
    "          (\"DecisionTree\", DecisionTreeClassifier()),\n",
    "          (\"RF\", RandomForestClassifier()),\n",
    "          (\"SVC\", SVC()),\n",
    "          (\"GBM\", GradientBoostingClassifier()),\n",
    "          (\"XGBoost\", XGBClassifier()),\n",
    "          (\"LightGBM\", LGBMClassifier())]"
   ]
  },
  {
   "cell_type": "code",
   "execution_count": 297,
   "id": "86b4b648",
   "metadata": {
    "scrolled": true
   },
   "outputs": [
    {
     "name": "stdout",
     "output_type": "stream",
     "text": [
      "LR \n",
      " Accuracy:0.9514677103718199 \n",
      " Recall:0.004081632653061224 \n",
      " Precision:0.2 \n",
      " F-Score:0.007999999999999998\n",
      "KNN \n",
      " Accuracy:0.9506849315068493 \n",
      " Recall:0.028163265306122447 \n",
      " Precision:0.5666666666666667 \n",
      " F-Score:0.05262994086523498\n",
      "DecisionTree \n",
      " Accuracy:0.9123287671232877 \n",
      " Recall:0.2003265306122449 \n",
      " Precision:0.16380981763334707 \n",
      " F-Score:0.1789638330101558\n",
      "RF \n",
      " Accuracy:0.949706457925636 \n",
      " Recall:0.012081632653061225 \n",
      " Precision:0.2 \n",
      " F-Score:0.022657952069716776\n",
      "SVC \n",
      " Accuracy:0.9512720156555773 \n",
      " Recall:0.0 \n",
      " Precision:0.0 \n",
      " F-Score:0.0\n",
      "GBM \n",
      " Accuracy:0.9483365949119372 \n",
      " Recall:0.0 \n",
      " Precision:0.0 \n",
      " F-Score:0.0\n",
      "XGBoost \n",
      " Accuracy:0.9434442270058708 \n",
      " Recall:0.06816326530612245 \n",
      " Precision:0.23186507936507939 \n",
      " F-Score:0.10481908638625055\n",
      "LightGBM \n",
      " Accuracy:0.9452054794520549 \n",
      " Recall:0.052000000000000005 \n",
      " Precision:0.23306722689075632 \n",
      " F-Score:0.08223761574900616\n"
     ]
    }
   ],
   "source": [
    "for name, regressor in models:\n",
    "    cv = cross_validate(regressor, X, y, cv=5, scoring=[\"accuracy\", \"f1\", \"recall\", \"precision\"])\n",
    "    print(f'{name} \\n {\"Accuracy\"}:{cv[\"test_accuracy\"].mean()} \\n {\"Recall\"}:{cv[\"test_recall\"].mean()} \\n {\"Precision\"}:{cv[\"test_precision\"].mean()} \\n {\"F-Score\"}:{cv[\"test_f1\"].mean()}')"
   ]
  },
  {
   "cell_type": "markdown",
   "id": "c7ef01d9",
   "metadata": {},
   "source": [
    "*This is an imbalanced dataset so acurracy scores are high but other scores are low. Sampling can be use.*"
   ]
  },
  {
   "cell_type": "markdown",
   "id": "b27a0ec1",
   "metadata": {},
   "source": [
    "## Sampling"
   ]
  },
  {
   "cell_type": "markdown",
   "id": "c9297c84",
   "metadata": {},
   "source": [
    "### SMOTE"
   ]
  },
  {
   "cell_type": "code",
   "execution_count": 298,
   "id": "ff81c59a",
   "metadata": {},
   "outputs": [],
   "source": [
    "from imblearn.over_sampling import SMOTE"
   ]
  },
  {
   "cell_type": "code",
   "execution_count": 299,
   "id": "600f210f",
   "metadata": {},
   "outputs": [],
   "source": [
    "sm = SMOTE()"
   ]
  },
  {
   "cell_type": "code",
   "execution_count": 300,
   "id": "84bdff6f",
   "metadata": {},
   "outputs": [],
   "source": [
    "X_train, X_test, y_train, y_test = train_test_split(X, y, test_size=0.2)"
   ]
  },
  {
   "cell_type": "code",
   "execution_count": 301,
   "id": "b3157ae4",
   "metadata": {},
   "outputs": [
    {
     "data": {
      "text/plain": [
       "204"
      ]
     },
     "execution_count": 301,
     "metadata": {},
     "output_type": "execute_result"
    }
   ],
   "source": [
    "sum(y_train == 1) "
   ]
  },
  {
   "cell_type": "markdown",
   "id": "38ee8c62",
   "metadata": {},
   "source": [
    "*There are 204 data equal to 1*"
   ]
  },
  {
   "cell_type": "code",
   "execution_count": 302,
   "id": "1ccba207",
   "metadata": {},
   "outputs": [
    {
     "data": {
      "text/plain": [
       "3884"
      ]
     },
     "execution_count": 302,
     "metadata": {},
     "output_type": "execute_result"
    }
   ],
   "source": [
    "sum(y_train == 0)"
   ]
  },
  {
   "cell_type": "markdown",
   "id": "4fccc3e9",
   "metadata": {},
   "source": [
    "*There are 3884 data equal to 0*"
   ]
  },
  {
   "cell_type": "code",
   "execution_count": 303,
   "id": "84446b9e",
   "metadata": {},
   "outputs": [],
   "source": [
    "X_train_smote, y_train_smote = sm.fit_resample(X_train, y_train)"
   ]
  },
  {
   "cell_type": "code",
   "execution_count": 304,
   "id": "08dfeaed",
   "metadata": {},
   "outputs": [
    {
     "data": {
      "text/plain": [
       "3884"
      ]
     },
     "execution_count": 304,
     "metadata": {},
     "output_type": "execute_result"
    }
   ],
   "source": [
    "sum(y_train_smote == 1)"
   ]
  },
  {
   "cell_type": "markdown",
   "id": "d0ecf0cb",
   "metadata": {},
   "source": [
    "*There are 3884 data equal to 1*"
   ]
  },
  {
   "cell_type": "code",
   "execution_count": 305,
   "id": "2cbc47b9",
   "metadata": {},
   "outputs": [
    {
     "data": {
      "text/plain": [
       "3884"
      ]
     },
     "execution_count": 305,
     "metadata": {},
     "output_type": "execute_result"
    }
   ],
   "source": [
    "sum(y_train_smote == 0)"
   ]
  },
  {
   "cell_type": "markdown",
   "id": "1726cd73",
   "metadata": {},
   "source": [
    "*There are 3884 data equal to 0*"
   ]
  },
  {
   "cell_type": "code",
   "execution_count": 306,
   "id": "d9e26051",
   "metadata": {},
   "outputs": [
    {
     "name": "stdout",
     "output_type": "stream",
     "text": [
      "LR\n",
      "Confusion Matrix: \n",
      "[[696 281]\n",
      " [  8  37]]\n",
      "              precision    recall  f1-score   support\n",
      "\n",
      "           0       0.99      0.71      0.83       977\n",
      "           1       0.12      0.82      0.20        45\n",
      "\n",
      "    accuracy                           0.72      1022\n",
      "   macro avg       0.55      0.77      0.52      1022\n",
      "weighted avg       0.95      0.72      0.80      1022\n",
      "\n",
      "\n",
      "KNN\n",
      "Confusion Matrix: \n",
      "[[771 206]\n",
      " [ 29  16]]\n",
      "              precision    recall  f1-score   support\n",
      "\n",
      "           0       0.96      0.79      0.87       977\n",
      "           1       0.07      0.36      0.12        45\n",
      "\n",
      "    accuracy                           0.77      1022\n",
      "   macro avg       0.52      0.57      0.49      1022\n",
      "weighted avg       0.92      0.77      0.83      1022\n",
      "\n",
      "\n",
      "DecisionTree\n",
      "Confusion Matrix: \n",
      "[[836 141]\n",
      " [ 30  15]]\n",
      "              precision    recall  f1-score   support\n",
      "\n",
      "           0       0.97      0.86      0.91       977\n",
      "           1       0.10      0.33      0.15        45\n",
      "\n",
      "    accuracy                           0.83      1022\n",
      "   macro avg       0.53      0.59      0.53      1022\n",
      "weighted avg       0.93      0.83      0.87      1022\n",
      "\n",
      "\n",
      "RF\n",
      "Confusion Matrix: \n",
      "[[869 108]\n",
      " [ 35  10]]\n",
      "              precision    recall  f1-score   support\n",
      "\n",
      "           0       0.96      0.89      0.92       977\n",
      "           1       0.08      0.22      0.12        45\n",
      "\n",
      "    accuracy                           0.86      1022\n",
      "   macro avg       0.52      0.56      0.52      1022\n",
      "weighted avg       0.92      0.86      0.89      1022\n",
      "\n",
      "\n",
      "SVC\n",
      "Confusion Matrix: \n",
      "[[735 242]\n",
      " [ 14  31]]\n",
      "              precision    recall  f1-score   support\n",
      "\n",
      "           0       0.98      0.75      0.85       977\n",
      "           1       0.11      0.69      0.19        45\n",
      "\n",
      "    accuracy                           0.75      1022\n",
      "   macro avg       0.55      0.72      0.52      1022\n",
      "weighted avg       0.94      0.75      0.82      1022\n",
      "\n",
      "\n",
      "GBM\n",
      "Confusion Matrix: \n",
      "[[767 210]\n",
      " [ 17  28]]\n",
      "              precision    recall  f1-score   support\n",
      "\n",
      "           0       0.98      0.79      0.87       977\n",
      "           1       0.12      0.62      0.20        45\n",
      "\n",
      "    accuracy                           0.78      1022\n",
      "   macro avg       0.55      0.70      0.53      1022\n",
      "weighted avg       0.94      0.78      0.84      1022\n",
      "\n",
      "\n",
      "XGBoost\n",
      "Confusion Matrix: \n",
      "[[940  37]\n",
      " [ 43   2]]\n",
      "              precision    recall  f1-score   support\n",
      "\n",
      "           0       0.96      0.96      0.96       977\n",
      "           1       0.05      0.04      0.05        45\n",
      "\n",
      "    accuracy                           0.92      1022\n",
      "   macro avg       0.50      0.50      0.50      1022\n",
      "weighted avg       0.92      0.92      0.92      1022\n",
      "\n",
      "\n",
      "LightGBM\n",
      "Confusion Matrix: \n",
      "[[926  51]\n",
      " [ 40   5]]\n",
      "              precision    recall  f1-score   support\n",
      "\n",
      "           0       0.96      0.95      0.95       977\n",
      "           1       0.09      0.11      0.10        45\n",
      "\n",
      "    accuracy                           0.91      1022\n",
      "   macro avg       0.52      0.53      0.53      1022\n",
      "weighted avg       0.92      0.91      0.92      1022\n",
      "\n",
      "\n"
     ]
    }
   ],
   "source": [
    "for name, regressor in models:\n",
    "    regressor.fit(X_train_smote, y_train_smote)\n",
    "    pre = regressor.predict(X_test)\n",
    "    print(f'{name}\\nConfusion Matrix: \\n{confusion_matrix(y_test, pre)}\\n{classification_report(y_test, pre)}\\n')"
   ]
  },
  {
   "cell_type": "markdown",
   "id": "1563a92b",
   "metadata": {},
   "source": [
    "Logistic Regression can be use with %82 recall score"
   ]
  },
  {
   "cell_type": "markdown",
   "id": "3a40c0a5",
   "metadata": {},
   "source": [
    "## References"
   ]
  },
  {
   "cell_type": "markdown",
   "id": "2ebbb543",
   "metadata": {},
   "source": [
    "* Miuul Machine Learning Summer Camp\n",
    "* https://seaborn.pydata.org/generated/seaborn.barplot.html\n",
    "* https://seaborn.pydata.org/tutorial/categorical.html\n",
    "* https://www.w3schools.com/python/matplotlib_pie_charts.asp\n",
    "* https://www.geeksforgeeks.org/ml-handling-imbalanced-data-with-smote-and-near-miss-algorithm-in-python/"
   ]
  }
 ],
 "metadata": {
  "kernelspec": {
   "display_name": "Python 3 (ipykernel)",
   "language": "python",
   "name": "python3"
  },
  "language_info": {
   "codemirror_mode": {
    "name": "ipython",
    "version": 3
   },
   "file_extension": ".py",
   "mimetype": "text/x-python",
   "name": "python",
   "nbconvert_exporter": "python",
   "pygments_lexer": "ipython3",
   "version": "3.9.7"
  }
 },
 "nbformat": 4,
 "nbformat_minor": 5
}
